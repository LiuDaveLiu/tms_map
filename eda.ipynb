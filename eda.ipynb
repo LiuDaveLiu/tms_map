{
 "cells": [
  {
   "cell_type": "code",
   "execution_count": 5,
   "id": "a5eeecec",
   "metadata": {},
   "outputs": [
    {
     "ename": "SyntaxError",
     "evalue": "Missing parentheses in call to 'print'. Did you mean print('='*80)? (nessus_report.py, line 113)",
     "output_type": "error",
     "traceback": [
      "Traceback \u001b[1;36m(most recent call last)\u001b[0m:\n",
      "  File \u001b[0;32m\"C:\\Users\\lliu10\\Anaconda3\\lib\\site-packages\\IPython\\core\\interactiveshell.py\"\u001b[0m, line \u001b[0;32m3457\u001b[0m, in \u001b[0;35mrun_code\u001b[0m\n    exec(code_obj, self.user_global_ns, self.user_ns)\n",
      "\u001b[1;36m  File \u001b[1;32m\"C:\\Users\\lliu10\\AppData\\Local\\Temp\\ipykernel_21424\\3875221598.py\"\u001b[1;36m, line \u001b[1;32m2\u001b[1;36m, in \u001b[1;35m<module>\u001b[1;36m\u001b[0m\n\u001b[1;33m    import nessus_report\u001b[0m\n",
      "\u001b[1;36m  File \u001b[1;32m\"C:\\Users\\lliu10\\OneDrive - Inside MD Anderson\\Documents\\GitHub\\tms_map\\nessus_report.py\"\u001b[1;36m, line \u001b[1;32m113\u001b[0m\n\u001b[1;33m    print '='*80\u001b[0m\n\u001b[1;37m          ^\u001b[0m\n\u001b[1;31mSyntaxError\u001b[0m\u001b[1;31m:\u001b[0m Missing parentheses in call to 'print'. Did you mean print('='*80)?\n"
     ]
    }
   ],
   "source": [
    "import matplotlib.pyplot as plt\n",
    "import nessus_report"
   ]
  },
  {
   "cell_type": "code",
   "execution_count": 3,
   "id": "42d2d48b",
   "metadata": {},
   "outputs": [],
   "source": [
    "base_dir='C:/Users/lliu10/OneDrive - Inside MD Anderson/Documents/Text Exports for Low Grade Glioma 1.21-8.22/'"
   ]
  },
  {
   "cell_type": "code",
   "execution_count": null,
   "id": "819b248a",
   "metadata": {},
   "outputs": [],
   "source": []
  }
 ],
 "metadata": {
  "kernelspec": {
   "display_name": "Python 3 (ipykernel)",
   "language": "python",
   "name": "python3"
  },
  "language_info": {
   "codemirror_mode": {
    "name": "ipython",
    "version": 3
   },
   "file_extension": ".py",
   "mimetype": "text/x-python",
   "name": "python",
   "nbconvert_exporter": "python",
   "pygments_lexer": "ipython3",
   "version": "3.9.13"
  }
 },
 "nbformat": 4,
 "nbformat_minor": 5
}
